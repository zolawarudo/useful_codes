{
 "cells": [
  {
   "cell_type": "markdown",
   "metadata": {},
   "source": [
    "### Preprocessing snippet code for RF (generally working for all tree based methods, even XGBoost)"
   ]
  },
  {
   "cell_type": "markdown",
   "metadata": {},
   "source": [
    "Tree based methods requires the qualitative variable to be encoded as a binary numeric variable"
   ]
  },
  {
   "cell_type": "code",
   "execution_count": null,
   "metadata": {},
   "outputs": [],
   "source": [
    "X = covariates # X is the data containing all the explainatory variables (both numeric and non)\n",
    "to_dummy = ['var1', 'var2', 'var3', \"var4\"] #exploit the names of the categorical variables\n",
    "from sklearn import preprocessing\n",
    "for dummy_var in to_dummy:\n",
    "    lbl = preprocessing.LabelEncoder()\n",
    "    X[dummy_var] = lbl.fit_transform(X[dummy_var].astype(str))"
   ]
  }
 ],
 "metadata": {
  "kernelspec": {
   "display_name": "Python 3",
   "language": "python",
   "name": "python3"
  },
  "language_info": {
   "codemirror_mode": {
    "name": "ipython",
    "version": 3
   },
   "file_extension": ".py",
   "mimetype": "text/x-python",
   "name": "python",
   "nbconvert_exporter": "python",
   "pygments_lexer": "ipython3",
   "version": "3.8.5"
  }
 },
 "nbformat": 4,
 "nbformat_minor": 4
}
