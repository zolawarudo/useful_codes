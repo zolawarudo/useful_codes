{
 "cells": [
  {
   "cell_type": "code",
   "execution_count": 1,
   "metadata": {},
   "outputs": [],
   "source": [
    "import torch\n",
    "import torch.nn as nn\n",
    "import numpy as np\n",
    "import matplotlib.pyplot as plt\n",
    "from sklearn import datasets\n",
    "import pandas as pd\n",
    "from sklearn.preprocessing import StandardScaler\n",
    "from sklearn import datasets, linear_model\n",
    "from sklearn.metrics import mean_squared_error, r2_score"
   ]
  },
  {
   "cell_type": "markdown",
   "metadata": {},
   "source": [
    "Data set: sklearn diabetes\n",
    "    \n",
    "Ten baseline variables, age, sex, body mass index, average blood pressure, and six blood serum measurements were obtained for each of n = 442 diabetes patients, as well as the response of interest, a quantitative measure of disease progression one year after baseline."
   ]
  },
  {
   "cell_type": "code",
   "execution_count": 2,
   "metadata": {},
   "outputs": [],
   "source": [
    "X, y = datasets.load_diabetes(return_X_y=True)\n",
    "X = X[:, np.newaxis, 2] #use only one feature\n",
    "y = y.reshape(len(y),1)\n",
    "X = StandardScaler().fit_transform(X)"
   ]
  },
  {
   "cell_type": "code",
   "execution_count": 3,
   "metadata": {},
   "outputs": [
    {
     "name": "stdout",
     "output_type": "stream",
     "text": [
      "Covariates dimensionality: (401, 1)\n",
      "Response dimensionality: (401, 1)\n"
     ]
    }
   ],
   "source": [
    "# Split the data into training/testing sets\n",
    "split_index = np.random.randint(0, 442, 42)\n",
    "\n",
    "x_train = np.array([X[i] for i in range(442) if i not in split_index])\n",
    "x_test = np.array(X[split_index])\n",
    "\n",
    "y_train = np.array([y[i] for i in range(442) if i not in split_index])\n",
    "y_test = np.array(y[split_index])\n",
    "\n",
    "print(\"Covariates dimensionality:\", x_train.shape) \n",
    "print(\"Response dimensionality:\", y_train.shape)"
   ]
  },
  {
   "cell_type": "code",
   "execution_count": 4,
   "metadata": {},
   "outputs": [],
   "source": [
    "input_size = 1\n",
    "output_size = 1\n",
    "num_epochs = 300 #The maximum number of times the program can iterate over the entire dataset in one train() \n",
    "learning_rate = 0.01"
   ]
  },
  {
   "cell_type": "code",
   "execution_count": 5,
   "metadata": {},
   "outputs": [],
   "source": [
    "# Linear regression model\n",
    "model = nn.Linear(input_size, output_size)"
   ]
  },
  {
   "cell_type": "code",
   "execution_count": 6,
   "metadata": {},
   "outputs": [],
   "source": [
    "# Loss and Optimizer\n",
    "criterion = nn.MSELoss() #Linear regression loss function -> MSE\n",
    "optimizer = torch.optim.SGD(model.parameters(), lr = learning_rate)"
   ]
  },
  {
   "cell_type": "code",
   "execution_count": 7,
   "metadata": {},
   "outputs": [
    {
     "name": "stdout",
     "output_type": "stream",
     "text": [
      "Epoch [5/300], Loss: 25252.9883\n",
      "Epoch [10/300], Loss: 21341.4023\n",
      "Epoch [15/300], Loss: 18149.8379\n",
      "Epoch [20/300], Loss: 15545.7461\n",
      "Epoch [25/300], Loss: 13420.9854\n",
      "Epoch [30/300], Loss: 11687.3164\n",
      "Epoch [35/300], Loss: 10272.7451\n",
      "Epoch [40/300], Loss: 9118.5391\n",
      "Epoch [45/300], Loss: 8176.7681\n",
      "Epoch [50/300], Loss: 7408.3311\n",
      "Epoch [55/300], Loss: 6781.3223\n",
      "Epoch [60/300], Loss: 6269.7090\n",
      "Epoch [65/300], Loss: 5852.2549\n",
      "Epoch [70/300], Loss: 5511.6265\n",
      "Epoch [75/300], Loss: 5233.6846\n",
      "Epoch [80/300], Loss: 5006.8926\n",
      "Epoch [85/300], Loss: 4821.8364\n",
      "Epoch [90/300], Loss: 4670.8345\n",
      "Epoch [95/300], Loss: 4547.6196\n",
      "Epoch [100/300], Loss: 4447.0781\n",
      "Epoch [105/300], Loss: 4365.0381\n",
      "Epoch [110/300], Loss: 4298.0938\n",
      "Epoch [115/300], Loss: 4243.4678\n",
      "Epoch [120/300], Loss: 4198.8921\n",
      "Epoch [125/300], Loss: 4162.5190\n",
      "Epoch [130/300], Loss: 4132.8374\n",
      "Epoch [135/300], Loss: 4108.6177\n",
      "Epoch [140/300], Loss: 4088.8545\n",
      "Epoch [145/300], Loss: 4072.7271\n",
      "Epoch [150/300], Loss: 4059.5667\n",
      "Epoch [155/300], Loss: 4048.8274\n",
      "Epoch [160/300], Loss: 4040.0642\n",
      "Epoch [165/300], Loss: 4032.9126\n",
      "Epoch [170/300], Loss: 4027.0774\n",
      "Epoch [175/300], Loss: 4022.3152\n",
      "Epoch [180/300], Loss: 4018.4287\n",
      "Epoch [185/300], Loss: 4015.2576\n",
      "Epoch [190/300], Loss: 4012.6692\n",
      "Epoch [195/300], Loss: 4010.5576\n",
      "Epoch [200/300], Loss: 4008.8345\n",
      "Epoch [205/300], Loss: 4007.4277\n",
      "Epoch [210/300], Loss: 4006.2800\n",
      "Epoch [215/300], Loss: 4005.3438\n",
      "Epoch [220/300], Loss: 4004.5791\n",
      "Epoch [225/300], Loss: 4003.9553\n",
      "Epoch [230/300], Loss: 4003.4468\n",
      "Epoch [235/300], Loss: 4003.0312\n",
      "Epoch [240/300], Loss: 4002.6921\n",
      "Epoch [245/300], Loss: 4002.4155\n",
      "Epoch [250/300], Loss: 4002.1895\n",
      "Epoch [255/300], Loss: 4002.0054\n",
      "Epoch [260/300], Loss: 4001.8550\n",
      "Epoch [265/300], Loss: 4001.7322\n",
      "Epoch [270/300], Loss: 4001.6321\n",
      "Epoch [275/300], Loss: 4001.5505\n",
      "Epoch [280/300], Loss: 4001.4832\n",
      "Epoch [285/300], Loss: 4001.4292\n",
      "Epoch [290/300], Loss: 4001.3848\n",
      "Epoch [295/300], Loss: 4001.3481\n",
      "Epoch [300/300], Loss: 4001.3188\n"
     ]
    }
   ],
   "source": [
    "# Model training\n",
    "\n",
    "for epoch in range(num_epochs):\n",
    "    # Convert numpy arrays to torch tensors\n",
    "    inputs = torch.Tensor(x_train)\n",
    "    targets = torch.Tensor(y_train)\n",
    "    # Forward pass\n",
    "    outputs = model(inputs)\n",
    "    loss = criterion(outputs, targets)\n",
    "    # Backpropagation\n",
    "    optimizer.zero_grad()\n",
    "    loss.backward()\n",
    "    optimizer.step()\n",
    "    if (epoch+1) % 5 == 0:\n",
    "        print ('Epoch [{}/{}], Loss: {:.4f}'.format(epoch+1, num_epochs, loss.item()))"
   ]
  },
  {
   "cell_type": "code",
   "execution_count": 8,
   "metadata": {},
   "outputs": [
    {
     "data": {
      "image/png": "[encoded data removed]",
      "text/plain": [
       "<Figure size 432x288 with 1 Axes>"
      ]
     },
     "metadata": {
      "needs_background": "light"
     },
     "output_type": "display_data"
    }
   ],
   "source": [
    "# Graph\n",
    "\n",
    "# Convert x_train to a PyTorch tensor with the same data type as used during training\n",
    "predicted = model(torch.from_numpy(x_train).to(torch.float32)).detach().numpy()\n",
    "\n",
    "plt.plot(x_train, y_train, 'ro', label='Original data')\n",
    "plt.xlabel(\"Standardized X\")\n",
    "plt.ylabel(\"y\")\n",
    "plt.plot(x_train, predicted, label='Fitted line')\n",
    "plt.legend()\n",
    "plt.show()\n"
   ]
  },
  {
   "cell_type": "code",
   "execution_count": 9,
   "metadata": {},
   "outputs": [
    {
     "name": "stdout",
     "output_type": "stream",
     "text": [
      "Beta: [[45.87899]]\n",
      "Intercept: [149.95544]\n"
     ]
    }
   ],
   "source": [
    "Beta = model.weight.data.numpy()\n",
    "Intercept = model.bias.data.numpy()\n",
    "print(\"Beta:\", Beta)\n",
    "print(\"Intercept:\", Intercept)"
   ]
  },
  {
   "cell_type": "code",
   "execution_count": 10,
   "metadata": {},
   "outputs": [],
   "source": [
    "y_hat = model(torch.from_numpy(x_test).to(torch.float32)).detach().numpy()"
   ]
  },
  {
   "cell_type": "code",
   "execution_count": 11,
   "metadata": {},
   "outputs": [
    {
     "name": "stdout",
     "output_type": "stream",
     "text": [
      "Coefficients: \n",
      " [[45.87899]]\n",
      "Mean squared error: 2881.02\n",
      "Coefficient of determination (R^2): 0.25\n"
     ]
    }
   ],
   "source": [
    "# The coefficients\n",
    "print(\"Coefficients: \\n\", Beta)\n",
    "# The mean squared error\n",
    "print(\"Mean squared error: %.2f\" % mean_squared_error(y_test, y_hat))\n",
    "# The coefficient of determination: 1 is perfect prediction\n",
    "print(\"Coefficient of determination (R^2): %.2f\" % r2_score(y_test, y_hat))"
   ]
  },
  {
   "cell_type": "code",
   "execution_count": 12,
   "metadata": {},
   "outputs": [
    {
     "data": {
      "image/png": "[encoded data removed]",
      "text/plain": [
       "<Figure size 432x288 with 1 Axes>"
      ]
     },
     "metadata": {
      "needs_background": "light"
     },
     "output_type": "display_data"
    }
   ],
   "source": [
    "plt.plot(x_test, y_test, 'ro', label='Original data')\n",
    "plt.suptitle(\"Linear Regression on test set with Pytorch\")\n",
    "plt.xlabel(\"Standardized X test\")\n",
    "plt.ylabel(\"y test\")\n",
    "plt.plot(x_test, y_hat, label='Fitted line')\n",
    "plt.legend()\n",
    "plt.show()"
   ]
  },
  {
   "cell_type": "markdown",
   "metadata": {},
   "source": [
    "### Repeat on Sklearn"
   ]
  },
  {
   "cell_type": "markdown",
   "metadata": {},
   "source": [
    "inspired from https://scikit-learn.org/stable/auto_examples/linear_model/plot_ols.html#sphx-glr-auto-examples-linear-model-plot-ols-py"
   ]
  },
  {
   "cell_type": "code",
   "execution_count": 13,
   "metadata": {},
   "outputs": [
    {
     "name": "stdout",
     "output_type": "stream",
     "text": [
      "Coefficients: \n",
      " [[45.96121871]]\n",
      "Mean squared error: 2870.25\n",
      "Coefficient of determination (R^2): 0.25\n"
     ]
    },
    {
     "data": {
      "image/png": "[encoded data removed]",
      "text/plain": [
       "<Figure size 432x288 with 1 Axes>"
      ]
     },
     "metadata": {},
     "output_type": "display_data"
    }
   ],
   "source": [
    "# Create linear regression object\n",
    "regr = linear_model.LinearRegression()\n",
    "\n",
    "# Train the model using the training sets\n",
    "regr.fit(x_train, y_train)\n",
    "\n",
    "# Make predictions using the testing set\n",
    "y_pred = regr.predict(x_test)\n",
    "\n",
    "# The coefficients\n",
    "print(\"Coefficients: \\n\", regr.coef_)\n",
    "# The mean squared error\n",
    "print(\"Mean squared error: %.2f\" % mean_squared_error(y_test, y_pred))\n",
    "# The coefficient of determination: 1 is perfect prediction\n",
    "print(\"Coefficient of determination (R^2): %.2f\" % r2_score(y_test, y_pred))\n",
    "\n",
    "# Plot outputs\n",
    "plt.scatter(x_test, y_test, color=\"red\")\n",
    "plt.plot(x_test, y_pred, color=\"blue\", linewidth=1)\n",
    "plt.suptitle(\"Linear Regression on test set with Sklearn\")\n",
    "plt.xticks(())\n",
    "plt.yticks(())\n",
    "\n",
    "plt.show()"
   ]
  },
  {
   "cell_type": "markdown",
   "metadata": {},
   "source": [
    "By using Scikit-Learn and Pytorch we got analogous results"
   ]
  }
 ],
 "metadata": {
  "kernelspec": {
   "display_name": "Python 3",
   "language": "python",
   "name": "python3"
  },
  "language_info": {
   "codemirror_mode": {
    "name": "ipython",
    "version": 3
   },
   "file_extension": ".py",
   "mimetype": "text/x-python",
   "name": "python",
   "nbconvert_exporter": "python",
   "pygments_lexer": "ipython3",
   "version": "3.8.5"
  }
 },
 "nbformat": 4,
 "nbformat_minor": 4
}
