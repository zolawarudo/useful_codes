{
 "cells": [
  {
   "cell_type": "code",
   "execution_count": null,
   "metadata": {},
   "outputs": [],
   "source": [
    "#Setup\n",
    "import pandas as pd\n",
    "import numpy as np\n",
    "import time\n",
    "from sklearn.model_selection import train_test_split\n",
    "from sklearn.ensemble import RandomForestClassifier\n",
    "from xgboost import XGBClassifier\n",
    "from sklearn.pipeline import Pipeline\n",
    "from sklearn.metrics import confusion_matrix,recall_score\n",
    "from sklearn.metrics import roc_auc_score"
   ]
  },
  {
   "cell_type": "code",
   "execution_count": null,
   "metadata": {},
   "outputs": [],
   "source": [
    "#For dealing with unbalanced data\n",
    "from imblearn.under_sampling import RandomUnderSampler\n",
    "from imblearn.over_sampling import RandomOverSampler\n",
    "from imblearn.over_sampling import SMOTE"
   ]
  },
  {
   "cell_type": "markdown",
   "metadata": {},
   "source": [
    "These tree based models can also deal with unb. data with the weighting parameters. Respectively scale_pos_weight=2 (arbitrary) and class_weight =  \"balanced\", however it is typically less effective than resampling strategy"
   ]
  },
  {
   "cell_type": "markdown",
   "metadata": {},
   "source": [
    "#### Build simple Pipeline using the oversampling strategy"
   ]
  },
  {
   "cell_type": "markdown",
   "metadata": {},
   "source": [
    "Remember to perform the sampling strategy after train-test split and only on training set for avoiding bias"
   ]
  },
  {
   "cell_type": "code",
   "execution_count": 1,
   "metadata": {},
   "outputs": [],
   "source": [
    "## With SMOTE\n",
    "over1 = SMOTE(random_state = 22, sampling_strategy=0.2, k_neighbors=5)\n",
    "under1 = RandomUnderSampler(random_state = 22, sampling_strategy=0.5)\n",
    "pipeline1 = Pipeline(steps = [('o',over),('u',under)])"
   ]
  },
  {
   "cell_type": "code",
   "execution_count": null,
   "metadata": {},
   "outputs": [],
   "source": [
    "## With ROS\n",
    "over2 = RandomOverSampler(random_state = 22, sampling_strategy=0.2)\n",
    "under2 = RandomUnderSampler(random_state = 22, sampling_strategy=0.5)\n",
    "pipeline2 = Pipeline(steps = [('o',over),('u',under)])"
   ]
  },
  {
   "cell_type": "markdown",
   "metadata": {},
   "source": [
    "Train-Test split + proportion of unbalanceness left on the table (useful for reducing bias in the prediction)"
   ]
  },
  {
   "cell_type": "code",
   "execution_count": null,
   "metadata": {},
   "outputs": [],
   "source": [
    "X_train, X_test, y_train, y_test = train_test_split(X_m, Y_m, test_size = 0.3, random_state = 22, stratify = Y_m)\n",
    "X_train, y_train = pipeline1.fit_resample(X_train, y_train)\n",
    "print(len(y_train[y_train == 0])/len(y_train[y_train == 1]))"
   ]
  },
  {
   "cell_type": "markdown",
   "metadata": {},
   "source": [
    "#### XGBoost + some parameters at choice that should be tuned"
   ]
  },
  {
   "cell_type": "code",
   "execution_count": null,
   "metadata": {},
   "outputs": [],
   "source": [
    "xgboost_model = XGBClassifier(random_state = 22, gamma=0.1, learning_rate=0.01, \n",
    "                              max_depth=10, n_estimators=1000, scale_pos_weight=2, subsample = 0.75)\n",
    "start = time.time()\n",
    "xgboost_model.fit(X_train, y_train)\n",
    "end = time.time()\n",
    "print(end-start, \" seconds\")\n",
    "y_pred = xgboost_model.predict(X_test)"
   ]
  },
  {
   "cell_type": "code",
   "execution_count": null,
   "metadata": {},
   "outputs": [],
   "source": [
    "print(confusion_matrix(y_test,y_pred))\n",
    "# Do not use accuracy\n",
    "print(\"ROC AUC: \", roc_auc_score(y_test, y_pred))  #useful for unbalaned data"
   ]
  },
  {
   "cell_type": "markdown",
   "metadata": {},
   "source": [
    "#### Random Forest + some parameters at choice that should be tuned"
   ]
  },
  {
   "cell_type": "code",
   "execution_count": null,
   "metadata": {},
   "outputs": [],
   "source": [
    "#n_jobs parallelize\n",
    "rf_model = RandomForestClassifier(criterion = \"gini\", max_depth = 15, min_samples_leaf = 1, n_jobs = -1, verbose = 1,\n",
    "                                    random_state = 22,  n_estimators = 1000, class_weight =  \"balanced\")\n",
    "start = time.time()\n",
    "rf_model.fit(X_train, y_train)\n",
    "end = time.time()\n",
    "print(end-start, \" seconds\")\n",
    "y_pred = rf_model.predict(X_test)"
   ]
  },
  {
   "cell_type": "code",
   "execution_count": null,
   "metadata": {},
   "outputs": [],
   "source": [
    "print(confusion_matrix(y_test,y_pred))\n",
    "# Do not use accuracy\n",
    "print(\"ROC AUC: \", roc_auc_score(y_test, y_pred))  #useful for unbalaned data"
   ]
  }
 ],
 "metadata": {
  "kernelspec": {
   "display_name": "Python 3",
   "language": "python",
   "name": "python3"
  },
  "language_info": {
   "codemirror_mode": {
    "name": "ipython",
    "version": 3
   },
   "file_extension": ".py",
   "mimetype": "text/x-python",
   "name": "python",
   "nbconvert_exporter": "python",
   "pygments_lexer": "ipython3",
   "version": "3.8.5"
  }
 },
 "nbformat": 4,
 "nbformat_minor": 4
}
