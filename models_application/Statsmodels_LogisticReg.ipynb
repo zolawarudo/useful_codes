{
 "cells": [
  {
   "cell_type": "markdown",
   "metadata": {},
   "source": [
    "### Snippet for a Logistic Regression with reweighting of observations using statsmodels"
   ]
  },
  {
   "cell_type": "code",
   "execution_count": 1,
   "metadata": {},
   "outputs": [],
   "source": [
    "import statsmodels.formula.api as smf\n",
    "import pandas as pd\n",
    "import numpy as np"
   ]
  },
  {
   "cell_type": "markdown",
   "metadata": {},
   "source": [
    "Statsmodels is quite useful. It uses a statistical approach just like R, differing then from the SKLearn logistic regression. As a result of this is also produce an R-like output"
   ]
  },
  {
   "cell_type": "markdown",
   "metadata": {},
   "source": [
    "Suppose var1 to be categorical with the following categories:\n",
    "- Low\n",
    "- High\n",
    "\n",
    "Then we can exploit this into the logistic model with a list statement C(var, Treatment(Low/High). At this point this will serve as baseline"
   ]
  },
  {
   "cell_type": "code",
   "execution_count": null,
   "metadata": {},
   "outputs": [],
   "source": [
    "Y = Y[\"var\"].astype(\"category\") #set the response to categorical"
   ]
  },
  {
   "cell_type": "code",
   "execution_count": null,
   "metadata": {},
   "outputs": [],
   "source": [
    "#If you want to weight the observations (useful for class imbalance, you can do something similar)\n",
    "#In this case the weight is doubled if the observation is a positive instance\n",
    "weights = []\n",
    "for obs_value in Y:\n",
    "    if obs_value == 1:\n",
    "        weights.append(2)\n",
    "    elif obs_value == 0:\n",
    "        weights.append(1)"
   ]
  },
  {
   "cell_type": "code",
   "execution_count": null,
   "metadata": {},
   "outputs": [],
   "source": [
    "fit = smf.glm(\"mig ~ C(var1, Treatment(reference='Low'))+ var2+ var3)\",\n",
    "              family=sm.families.Binomial(),data=X_train, freq_weights=weights).fit()\n",
    "fit.summary()"
   ]
  }
 ],
 "metadata": {
  "kernelspec": {
   "display_name": "Python 3",
   "language": "python",
   "name": "python3"
  },
  "language_info": {
   "codemirror_mode": {
    "name": "ipython",
    "version": 3
   },
   "file_extension": ".py",
   "mimetype": "text/x-python",
   "name": "python",
   "nbconvert_exporter": "python",
   "pygments_lexer": "ipython3",
   "version": "3.8.5"
  }
 },
 "nbformat": 4,
 "nbformat_minor": 4
}
