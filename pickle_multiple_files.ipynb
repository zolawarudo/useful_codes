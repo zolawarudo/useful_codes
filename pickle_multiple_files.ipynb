{
 "cells": [
  {
   "cell_type": "code",
   "execution_count": null,
   "metadata": {},
   "outputs": [],
   "source": [
    "import pandas as pd\n",
    "import pickle\n",
    "import os\n",
    "import glob"
   ]
  },
  {
   "cell_type": "code",
   "execution_count": null,
   "metadata": {},
   "outputs": [],
   "source": [
    "# assign folder containing data\n",
    "folder_path = r\"C:/Users/Samuele/folder1\""
   ]
  },
  {
   "cell_type": "code",
   "execution_count": null,
   "metadata": {},
   "outputs": [],
   "source": [
    "# assign folder that stores pickled files\n",
    "pickle_folder_path = r\"C:/Users/Samuele/folder2\""
   ]
  },
  {
   "cell_type": "code",
   "execution_count": null,
   "metadata": {},
   "outputs": [],
   "source": [
    "# Loop through all CSV files in the folder\n",
    "for filename in tqdm(os.listdir(folder_path)):\n",
    "    if filename.endswith('.csv'):\n",
    "        file_path = os.path.join(folder_path, filename)\n",
    "        # Read the CSV file and store it as a Pandas DataFrame\n",
    "        df = pd.read_csv(file_path, names = column_names, header = None)\n",
    "        # Create the pickle file path by replacing the extension of the CSV file with \".pkl\"\n",
    "        pickle_path = os.path.join(pickle_folder_path, os.path.splitext(filename)[0] + \".pkl\")\n",
    "        # Save the DataFrame as a pickled file\n",
    "        with open(pickle_path, \"wb\") as f:\n",
    "            pickle.dump(df, f)"
   ]
  }
 ],
 "metadata": {
  "kernelspec": {
   "display_name": "Python 3",
   "language": "python",
   "name": "python3"
  },
  "language_info": {
   "codemirror_mode": {
    "name": "ipython",
    "version": 3
   },
   "file_extension": ".py",
   "mimetype": "text/x-python",
   "name": "python",
   "nbconvert_exporter": "python",
   "pygments_lexer": "ipython3",
   "version": "3.8.5"
  }
 },
 "nbformat": 4,
 "nbformat_minor": 4
}
