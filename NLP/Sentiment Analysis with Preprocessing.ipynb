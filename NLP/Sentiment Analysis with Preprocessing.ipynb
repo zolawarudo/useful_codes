{
 "cells": [
  {
   "cell_type": "code",
   "execution_count": 1,
   "metadata": {},
   "outputs": [],
   "source": [
    "import nltk\n",
    "from nltk.corpus import stopwords\n",
    "from nltk.stem import WordNetLemmatizer\n",
    "import pandas as pd\n",
    "import string\n",
    "from bs4 import BeautifulSoup #remove HTML tagging\n",
    "from tqdm import tqdm #time monitoring"
   ]
  },
  {
   "cell_type": "markdown",
   "metadata": {},
   "source": [
    "### Preprocessing"
   ]
  },
  {
   "cell_type": "code",
   "execution_count": 2,
   "metadata": {},
   "outputs": [],
   "source": [
    "df= pd.read_csv(\"C:/Users/Samuele/Downloads/IMDBreviews.csv\")\n",
    "df = df[:10000] # we use only ten thousand for computational reasons"
   ]
  },
  {
   "cell_type": "code",
   "execution_count": 3,
   "metadata": {},
   "outputs": [
    {
     "data": {
      "text/html": [
       "<div>\n",
       "<style scoped>\n",
       "    .dataframe tbody tr th:only-of-type {\n",
       "        vertical-align: middle;\n",
       "    }\n",
       "\n",
       "    .dataframe tbody tr th {\n",
       "        vertical-align: top;\n",
       "    }\n",
       "\n",
       "    .dataframe thead th {\n",
       "        text-align: right;\n",
       "    }\n",
       "</style>\n",
       "<table border=\"1\" class=\"dataframe\">\n",
       "  <thead>\n",
       "    <tr style=\"text-align: right;\">\n",
       "      <th></th>\n",
       "      <th>review</th>\n",
       "      <th>sentiment</th>\n",
       "    </tr>\n",
       "  </thead>\n",
       "  <tbody>\n",
       "    <tr>\n",
       "      <th>0</th>\n",
       "      <td>One of the other reviewers has mentioned that ...</td>\n",
       "      <td>positive</td>\n",
       "    </tr>\n",
       "    <tr>\n",
       "      <th>1</th>\n",
       "      <td>A wonderful little production. &lt;br /&gt;&lt;br /&gt;The...</td>\n",
       "      <td>positive</td>\n",
       "    </tr>\n",
       "    <tr>\n",
       "      <th>2</th>\n",
       "      <td>I thought this was a wonderful way to spend ti...</td>\n",
       "      <td>positive</td>\n",
       "    </tr>\n",
       "    <tr>\n",
       "      <th>3</th>\n",
       "      <td>Basically there's a family where a little boy ...</td>\n",
       "      <td>negative</td>\n",
       "    </tr>\n",
       "    <tr>\n",
       "      <th>4</th>\n",
       "      <td>Petter Mattei's \"Love in the Time of Money\" is...</td>\n",
       "      <td>positive</td>\n",
       "    </tr>\n",
       "  </tbody>\n",
       "</table>\n",
       "</div>"
      ],
      "text/plain": [
       "                                              review sentiment\n",
       "0  One of the other reviewers has mentioned that ...  positive\n",
       "1  A wonderful little production. <br /><br />The...  positive\n",
       "2  I thought this was a wonderful way to spend ti...  positive\n",
       "3  Basically there's a family where a little boy ...  negative\n",
       "4  Petter Mattei's \"Love in the Time of Money\" is...  positive"
      ]
     },
     "execution_count": 3,
     "metadata": {},
     "output_type": "execute_result"
    }
   ],
   "source": [
    "df.head() #notice the HTML tagging!"
   ]
  },
  {
   "cell_type": "code",
   "execution_count": 4,
   "metadata": {},
   "outputs": [
    {
     "name": "stderr",
     "output_type": "stream",
     "text": [
      "100%|██████████████████████████████████████████████████████████████████████████| 10000/10000 [00:03<00:00, 2758.25it/s]"
     ]
    },
    {
     "name": "stdout",
     "output_type": "stream",
     "text": [
      "0    One of the other reviewers has mentioned that ...\n",
      "1    A wonderful little production. The filming tec...\n",
      "2    I thought this was a wonderful way to spend ti...\n",
      "3    Basically there's a family where a little boy ...\n",
      "4    Petter Mattei's \"Love in the Time of Money\" is...\n",
      "dtype: object\n"
     ]
    },
    {
     "name": "stderr",
     "output_type": "stream",
     "text": [
      "\n"
     ]
    }
   ],
   "source": [
    "corpus = pd.Series(df.review.tolist()).astype(str)\n",
    "i=0\n",
    "for review in tqdm(corpus):\n",
    "    nohtml = BeautifulSoup(corpus[i])\n",
    "    corpus[i] = nohtml.get_text()\n",
    "    i+=1\n",
    "print(corpus.head())"
   ]
  },
  {
   "cell_type": "code",
   "execution_count": 5,
   "metadata": {},
   "outputs": [
    {
     "data": {
      "text/plain": [
       "0    One of the other reviewers has mentioned that ...\n",
       "1    A wonderful little production. The filming tec...\n",
       "2    I thought this was a wonderful way to spend ti...\n",
       "3    Basically there's a family where a little boy ...\n",
       "4    Petter Mattei's \"Love in the Time of Money\" is...\n",
       "dtype: object"
      ]
     },
     "execution_count": 5,
     "metadata": {},
     "output_type": "execute_result"
    }
   ],
   "source": [
    "corpus.head() #there are some html formatting terms like <br"
   ]
  },
  {
   "cell_type": "markdown",
   "metadata": {},
   "source": [
    "With the following function we remove stopwords (useless words) and punctuation"
   ]
  },
  {
   "cell_type": "code",
   "execution_count": 6,
   "metadata": {},
   "outputs": [],
   "source": [
    "def stopwords_deleter(corpus, print_opt = False):\n",
    "    stop = set(stopwords.words('english'))\n",
    "    words = []\n",
    "    for word in corpus.split():\n",
    "        if word.lower().translate(str.maketrans('','',string.punctuation)) not in stop:\n",
    "            words.append(word.translate(str.maketrans('','',string.punctuation)))   \n",
    "    nostopw_corpus = \" \".join(words)\n",
    "    if print_opt == True:\n",
    "        print(\"Old length: \", len(corpus))\n",
    "        print(\"New length: \", len(nostopw_corpus))\n",
    "    return(nostopw_corpus)"
   ]
  },
  {
   "cell_type": "code",
   "execution_count": 7,
   "metadata": {},
   "outputs": [
    {
     "name": "stdout",
     "output_type": "stream",
     "text": [
      "Old length:  1725\n",
      "New length:  1159\n"
     ]
    },
    {
     "data": {
      "text/plain": [
       "'One reviewers mentioned watching 1 Oz episode youll hooked right exactly happened meThe first thing struck Oz brutality unflinching scenes violence set right word GO Trust show faint hearted timid show pulls punches regards drugs sex violence hardcore classic use wordIt called OZ nickname given Oswald Maximum Security State Penitentary focuses mainly Emerald City experimental section prison cells glass fronts face inwards privacy high agenda Em City home manyAryans Muslims gangstas Latinos Christians Italians Irish moreso scuffles death stares dodgy dealings shady agreements never far awayI would say main appeal show due fact goes shows wouldnt dare Forget pretty pictures painted mainstream audiences forget charm forget romanceOZ doesnt mess around first episode ever saw struck nasty surreal couldnt say ready watched developed taste Oz got accustomed high levels graphic violence violence injustice crooked guards wholl sold nickel inmates wholl kill order get away well mannered middle class inmates turned prison bitches due lack street skills prison experience Watching Oz may become comfortable uncomfortable viewingthats get touch darker side'"
      ]
     },
     "execution_count": 7,
     "metadata": {},
     "output_type": "execute_result"
    }
   ],
   "source": [
    "stopwords_deleter(corpus[0], print_opt = True)  #this is what is happening with one text"
   ]
  },
  {
   "cell_type": "code",
   "execution_count": 8,
   "metadata": {},
   "outputs": [
    {
     "name": "stderr",
     "output_type": "stream",
     "text": [
      "100%|███████████████████████████████████████████████████████████████████████████| 10000/10000 [00:16<00:00, 597.90it/s]\n"
     ]
    }
   ],
   "source": [
    "preproc_reviews = pd.Series(dtype=\"str\")\n",
    "i = 0\n",
    "for review in tqdm(corpus):\n",
    "    preproc_reviews = preproc_reviews.append(pd.Series([stopwords_deleter(review)], index=[i]), ignore_index=True)\n",
    "    i += 1"
   ]
  },
  {
   "cell_type": "code",
   "execution_count": 9,
   "metadata": {},
   "outputs": [
    {
     "data": {
      "text/plain": [
       "0    One reviewers mentioned watching 1 Oz episode ...\n",
       "1    wonderful little production filming technique ...\n",
       "2    thought wonderful way spend time hot summer we...\n",
       "3    Basically theres family little boy Jake thinks...\n",
       "4    Petter Matteis Love Time Money visually stunni...\n",
       "dtype: object"
      ]
     },
     "execution_count": 9,
     "metadata": {},
     "output_type": "execute_result"
    }
   ],
   "source": [
    "preproc_reviews.head()"
   ]
  },
  {
   "cell_type": "markdown",
   "metadata": {},
   "source": [
    "### Lemmatization"
   ]
  },
  {
   "cell_type": "code",
   "execution_count": 10,
   "metadata": {},
   "outputs": [],
   "source": [
    "def Lemmatizer(corpus, print_opt=False):\n",
    "    lemmatizer = WordNetLemmatizer()\n",
    "    lemmatized = []\n",
    "    for word in corpus.split():\n",
    "        lemmatized.append(lemmatizer.lemmatize(word))\n",
    "    lemmatized_corpus = \" \".join(lemmatized)  # Join sentences with spaces\n",
    "    if print_opt:\n",
    "        print(\"Old length: \", len(corpus))\n",
    "        print(\"New length: \", len(stemmed_corpus))\n",
    "    return lemmatized_corpus"
   ]
  },
  {
   "cell_type": "code",
   "execution_count": 11,
   "metadata": {},
   "outputs": [
    {
     "name": "stderr",
     "output_type": "stream",
     "text": [
      "100%|███████████████████████████████████████████████████████████████████████████| 10000/10000 [00:12<00:00, 818.62it/s]\n"
     ]
    }
   ],
   "source": [
    "lemm_reviews = pd.Series(dtype=\"str\")\n",
    "i = 0\n",
    "for review in tqdm(preproc_reviews):\n",
    "    lemm_reviews = lemm_reviews.append(pd.Series([Lemmatizer(review)], index=[i]), ignore_index=True)\n",
    "    i += 1"
   ]
  },
  {
   "cell_type": "markdown",
   "metadata": {},
   "source": [
    "Here is how it looks"
   ]
  },
  {
   "cell_type": "code",
   "execution_count": 12,
   "metadata": {},
   "outputs": [
    {
     "data": {
      "text/plain": [
       "'One reviewer mentioned watching 1 Oz episode youll hooked right exactly happened meThe first thing struck Oz brutality unflinching scene violence set right word GO Trust show faint hearted timid show pull punch regard drug sex violence hardcore classic use wordIt called OZ nickname given Oswald Maximum Security State Penitentary focus mainly Emerald City experimental section prison cell glass front face inwards privacy high agenda Em City home manyAryans Muslims gangsta Latinos Christians Italians Irish moreso scuffle death stare dodgy dealing shady agreement never far awayI would say main appeal show due fact go show wouldnt dare Forget pretty picture painted mainstream audience forget charm forget romanceOZ doesnt mess around first episode ever saw struck nasty surreal couldnt say ready watched developed taste Oz got accustomed high level graphic violence violence injustice crooked guard wholl sold nickel inmate wholl kill order get away well mannered middle class inmate turned prison bitch due lack street skill prison experience Watching Oz may become comfortable uncomfortable viewingthats get touch darker side'"
      ]
     },
     "execution_count": 12,
     "metadata": {},
     "output_type": "execute_result"
    }
   ],
   "source": [
    "lemm_reviews[0]"
   ]
  },
  {
   "cell_type": "markdown",
   "metadata": {},
   "source": [
    "### Sentiment analysis"
   ]
  },
  {
   "cell_type": "code",
   "execution_count": 13,
   "metadata": {},
   "outputs": [],
   "source": [
    "import textblob"
   ]
  },
  {
   "cell_type": "code",
   "execution_count": 14,
   "metadata": {},
   "outputs": [
    {
     "name": "stdout",
     "output_type": "stream",
     "text": [
      "Actual Sentiment: positive\n",
      "Predicted Sentiment polarity: 0.025586734693877542\n",
      "------------------------------------------------------------\n",
      "Actual Sentiment: positive\n",
      "Predicted Sentiment polarity: 0.12760416666666669\n",
      "------------------------------------------------------------\n",
      "Actual Sentiment: positive\n",
      "Predicted Sentiment polarity: 0.26473214285714286\n",
      "------------------------------------------------------------\n",
      "Actual Sentiment: negative\n",
      "Predicted Sentiment polarity: -0.0421875\n",
      "------------------------------------------------------------\n",
      "Actual Sentiment: positive\n",
      "Predicted Sentiment polarity: 0.24490093240093241\n",
      "------------------------------------------------------------\n",
      "Actual Sentiment: positive\n",
      "Predicted Sentiment polarity: 0.045454545454545456\n",
      "------------------------------------------------------------\n",
      "Actual Sentiment: positive\n",
      "Predicted Sentiment polarity: 0.2587121212121212\n",
      "------------------------------------------------------------\n",
      "Actual Sentiment: negative\n",
      "Predicted Sentiment polarity: 0.11856060606060606\n",
      "------------------------------------------------------------\n",
      "Actual Sentiment: negative\n",
      "Predicted Sentiment polarity: -0.22126623376623372\n",
      "------------------------------------------------------------\n",
      "Actual Sentiment: positive\n",
      "Predicted Sentiment polarity: 0.33499999999999996\n",
      "------------------------------------------------------------\n"
     ]
    }
   ],
   "source": [
    "i = 0\n",
    "for review, sentiment in zip(lemm_reviews, df.sentiment):\n",
    "    print('Actual Sentiment:', sentiment)\n",
    "    print('Predicted Sentiment polarity:', textblob.TextBlob(review).sentiment.polarity)\n",
    "    i+=1\n",
    "    print('-'*60)\n",
    "    if i == 10:\n",
    "        break"
   ]
  },
  {
   "cell_type": "markdown",
   "metadata": {},
   "source": [
    "By looking at the first 10 results, it seems promising"
   ]
  },
  {
   "cell_type": "code",
   "execution_count": 15,
   "metadata": {},
   "outputs": [
    {
     "data": {
      "text/plain": [
       "['negative',\n",
       " 'positive',\n",
       " 'positive',\n",
       " 'negative',\n",
       " 'positive',\n",
       " 'negative',\n",
       " 'positive',\n",
       " 'positive',\n",
       " 'negative',\n",
       " 'positive']"
      ]
     },
     "execution_count": 15,
     "metadata": {},
     "output_type": "execute_result"
    }
   ],
   "source": [
    "sentiment_polarity = [textblob.TextBlob(review).sentiment.polarity for review in lemm_reviews]\n",
    "predicted_sentiments = ['positive' if score >= 0.1 else 'negative' for score in sentiment_polarity]\n",
    "predicted_sentiments[0:10]"
   ]
  },
  {
   "cell_type": "code",
   "execution_count": 16,
   "metadata": {},
   "outputs": [],
   "source": [
    "from sklearn.metrics import recall_score\n",
    "from sklearn.metrics import accuracy_score\n",
    "from sklearn.metrics import f1_score\n",
    "from sklearn.metrics import precision_score\n",
    "from sklearn.metrics import confusion_matrix"
   ]
  },
  {
   "cell_type": "code",
   "execution_count": 17,
   "metadata": {},
   "outputs": [
    {
     "name": "stdout",
     "output_type": "stream",
     "text": [
      "[[3795 1177]\n",
      " [1202 3826]]\n",
      "Accuracy Score:  0.762\n",
      "Precision Score:  0.765\n",
      "Recall Score:  0.761\n",
      "F1 Score:  0.763\n"
     ]
    }
   ],
   "source": [
    "label_mapping = {'negative': 0, 'positive': 1}\n",
    "predicted_remapped = [label_mapping[label] for label in predicted_sentiments]\n",
    "review_remapped = [label_mapping[label] for label in df.sentiment]\n",
    "\n",
    "print(confusion_matrix(review_remapped, predicted_remapped))\n",
    "print(\"Accuracy Score: \", round(accuracy_score(review_remapped, predicted_remapped),3))\n",
    "print(\"Precision Score: \", round(precision_score(review_remapped, predicted_remapped),3))\n",
    "print(\"Recall Score: \", round(recall_score(review_remapped, predicted_remapped),3))\n",
    "print(\"F1 Score: \", round(f1_score(review_remapped, predicted_remapped),3))"
   ]
  },
  {
   "cell_type": "markdown",
   "metadata": {},
   "source": [
    "Not bad!"
   ]
  }
 ],
 "metadata": {
  "kernelspec": {
   "display_name": "Python 3",
   "language": "python",
   "name": "python3"
  },
  "language_info": {
   "codemirror_mode": {
    "name": "ipython",
    "version": 3
   },
   "file_extension": ".py",
   "mimetype": "text/x-python",
   "name": "python",
   "nbconvert_exporter": "python",
   "pygments_lexer": "ipython3",
   "version": "3.8.5"
  }
 },
 "nbformat": 4,
 "nbformat_minor": 4
}
